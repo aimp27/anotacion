{
 "cells": [
  {
   "cell_type": "markdown",
   "metadata": {},
   "source": [
    "# Actualización de las bases de datos del NCBI"
   ]
  },
  {
   "cell_type": "markdown",
   "metadata": {},
   "source": [
    "### Se requiere tener instalado el blast\n",
    "https://blast.ncbi.nlm.nih.gov/Blast.cgi?CMD=Web&PAGE_TYPE=BlastDocs&DOC_TYPE=Download\n",
    "ejecutar en el cmd\n",
    "blastn -version\n",
    "\n",
    "### se requiere tener instalado el lenguaje perl\n",
    "https://www.perl.org\n",
    "ejecutar en el cmd\n",
    "perl -version \n",
    "\n"
   ]
  },
  {
   "cell_type": "markdown",
   "metadata": {},
   "source": [
    "### se actualiza la base de datos utilizando un comando de perl"
   ]
  },
  {
   "cell_type": "code",
   "execution_count": 1,
   "metadata": {},
   "outputs": [],
   "source": [
    "import os"
   ]
  },
  {
   "cell_type": "code",
   "execution_count": 12,
   "metadata": {},
   "outputs": [
    {
     "name": "stdout",
     "output_type": "stream",
     "text": [
      "/home/user1/Desktop\n"
     ]
    }
   ],
   "source": [
    "cd .."
   ]
  },
  {
   "cell_type": "code",
   "execution_count": 13,
   "metadata": {},
   "outputs": [],
   "source": [
    "os.makedirs(\"bigdata/\", exist_ok=True)"
   ]
  },
  {
   "cell_type": "code",
   "execution_count": 15,
   "metadata": {},
   "outputs": [
    {
     "name": "stdout",
     "output_type": "stream",
     "text": [
      "00temario.md  \u001b[0m\u001b[01;34mbigdata\u001b[0m/  \u001b[01;34mdata\u001b[0m/  \u001b[01;34mjupyter\u001b[0m/  \u001b[01;34mjupyter_win\u001b[0m/  readme.md\r\n"
     ]
    }
   ],
   "source": [
    "ls "
   ]
  },
  {
   "cell_type": "code",
   "execution_count": 16,
   "metadata": {},
   "outputs": [
    {
     "data": {
      "text/plain": [
       "'/home/user1/Desktop'"
      ]
     },
     "execution_count": 16,
     "metadata": {},
     "output_type": "execute_result"
    }
   ],
   "source": [
    "pwd"
   ]
  },
  {
   "cell_type": "markdown",
   "metadata": {},
   "source": [
    "## verificar que está el archivo\n",
    "`update_blastdb.pl`\n"
   ]
  },
  {
   "cell_type": "markdown",
   "metadata": {},
   "source": [
    "### En el servidor está en \n",
    "### `/home/jupyter/miniconda3/bin`\n",
    "#### para buscar un archivo se usa\n",
    "`which update_blastdb.pl`\n",
    "`whereis update_blastdb.pl`"
   ]
  },
  {
   "cell_type": "code",
   "execution_count": 17,
   "metadata": {
    "scrolled": false
   },
   "outputs": [
    {
     "name": "stdout",
     "output_type": "stream",
     "text": [
      "update_blastdb.pl\r\n"
     ]
    }
   ],
   "source": [
    "ls /home/user1/aplicaciones/"
   ]
  },
  {
   "cell_type": "code",
   "execution_count": 18,
   "metadata": {},
   "outputs": [
    {
     "name": "stdout",
     "output_type": "stream",
     "text": [
      "/home/user1/Desktop/bigdata\n"
     ]
    }
   ],
   "source": [
    "cd bigdata/"
   ]
  },
  {
   "cell_type": "code",
   "execution_count": 19,
   "metadata": {},
   "outputs": [],
   "source": [
    "ls"
   ]
  },
  {
   "cell_type": "code",
   "execution_count": 20,
   "metadata": {},
   "outputs": [],
   "source": [
    "os.makedirs('16SMicrobial',exist_ok=True)"
   ]
  },
  {
   "cell_type": "code",
   "execution_count": 21,
   "metadata": {},
   "outputs": [
    {
     "name": "stdout",
     "output_type": "stream",
     "text": [
      "/home/user1/Desktop/bigdata/16SMicrobial\n"
     ]
    }
   ],
   "source": [
    "cd 16SMicrobial"
   ]
  },
  {
   "cell_type": "code",
   "execution_count": 22,
   "metadata": {},
   "outputs": [
    {
     "name": "stdout",
     "output_type": "stream",
     "text": [
      "Connected to NCBI\n",
      "Downloading 16SMicrobial.tar.gz... [OK]\n"
     ]
    }
   ],
   "source": [
    "!perl ~/aplicaciones/update_blastdb.pl --passive 16SMicrobial"
   ]
  },
  {
   "cell_type": "code",
   "execution_count": 23,
   "metadata": {},
   "outputs": [
    {
     "name": "stdout",
     "output_type": "stream",
     "text": [
      "16SMicrobial.tar.gz  16SMicrobial.tar.gz.md5\r\n"
     ]
    }
   ],
   "source": [
    "ls"
   ]
  },
  {
   "cell_type": "code",
   "execution_count": 24,
   "metadata": {},
   "outputs": [
    {
     "name": "stdout",
     "output_type": "stream",
     "text": [
      "16SMicrobial.nhr\n",
      "16SMicrobial.nin\n",
      "16SMicrobial.nnd\n",
      "16SMicrobial.nni\n",
      "16SMicrobial.nog\n",
      "16SMicrobial.nsd\n",
      "16SMicrobial.nsi\n",
      "16SMicrobial.nsq\n",
      "taxdb.btd\n",
      "taxdb.bti\n"
     ]
    }
   ],
   "source": [
    "%%bash\n",
    "gunzip 16SMicrobial.tar.gz\n",
    "tar xvf  16SMicrobial.tar"
   ]
  },
  {
   "cell_type": "code",
   "execution_count": 25,
   "metadata": {},
   "outputs": [
    {
     "name": "stdout",
     "output_type": "stream",
     "text": [
      "total 277M\r\n",
      "-rw-rw-r-- 1 user1 user1 3.2M Sep  2 04:05 16SMicrobial.nhr\r\n",
      "-rw-rw-r-- 1 user1 user1 240K Sep  2 04:05 16SMicrobial.nin\r\n",
      "-rw-rw-r-- 1 user1 user1 163K Sep  2 04:05 16SMicrobial.nnd\r\n",
      "-rw-rw-r-- 1 user1 user1  700 Sep  2 04:05 16SMicrobial.nni\r\n",
      "-rw-rw-r-- 1 user1 user1  80K Sep  2 04:05 16SMicrobial.nog\r\n",
      "-rw-rw-r-- 1 user1 user1 667K Sep  2 04:05 16SMicrobial.nsd\r\n",
      "-rw-rw-r-- 1 user1 user1  15K Sep  2 04:05 16SMicrobial.nsi\r\n",
      "-rw-rw-r-- 1 user1 user1 7.3M Sep  2 04:05 16SMicrobial.nsq\r\n",
      "-rw-rw-r-- 1 user1 user1 139M Sep  5 03:59 16SMicrobial.tar\r\n",
      "-rw-rw-r-- 1 user1 user1   54 Sep  5 03:59 16SMicrobial.tar.gz.md5\r\n",
      "-rw-rw-r-- 1 user1 user1 115M Sep  2 04:05 taxdb.btd\r\n",
      "-rw-rw-r-- 1 user1 user1  13M Sep  2 04:05 taxdb.bti\r\n"
     ]
    }
   ],
   "source": [
    "ls -lh"
   ]
  },
  {
   "cell_type": "code",
   "execution_count": 26,
   "metadata": {},
   "outputs": [],
   "source": [
    "rm 16SMicrobial.tar"
   ]
  },
  {
   "cell_type": "code",
   "execution_count": 27,
   "metadata": {},
   "outputs": [],
   "source": [
    "rm 16SMicrobial.tar.gz.md5"
   ]
  },
  {
   "cell_type": "code",
   "execution_count": 28,
   "metadata": {},
   "outputs": [
    {
     "name": "stdout",
     "output_type": "stream",
     "text": [
      "total 139M\r\n",
      "-rw-rw-r-- 1 user1 user1 3.2M Sep  2 04:05 16SMicrobial.nhr\r\n",
      "-rw-rw-r-- 1 user1 user1 240K Sep  2 04:05 16SMicrobial.nin\r\n",
      "-rw-rw-r-- 1 user1 user1 163K Sep  2 04:05 16SMicrobial.nnd\r\n",
      "-rw-rw-r-- 1 user1 user1  700 Sep  2 04:05 16SMicrobial.nni\r\n",
      "-rw-rw-r-- 1 user1 user1  80K Sep  2 04:05 16SMicrobial.nog\r\n",
      "-rw-rw-r-- 1 user1 user1 667K Sep  2 04:05 16SMicrobial.nsd\r\n",
      "-rw-rw-r-- 1 user1 user1  15K Sep  2 04:05 16SMicrobial.nsi\r\n",
      "-rw-rw-r-- 1 user1 user1 7.3M Sep  2 04:05 16SMicrobial.nsq\r\n",
      "-rw-rw-r-- 1 user1 user1 115M Sep  2 04:05 taxdb.btd\r\n",
      "-rw-rw-r-- 1 user1 user1  13M Sep  2 04:05 taxdb.bti\r\n"
     ]
    }
   ],
   "source": [
    "ls -lh"
   ]
  },
  {
   "cell_type": "code",
   "execution_count": 29,
   "metadata": {},
   "outputs": [
    {
     "name": "stdout",
     "output_type": "stream",
     "text": [
      "/home/user1/Desktop/bigdata\n"
     ]
    }
   ],
   "source": [
    "cd .."
   ]
  },
  {
   "cell_type": "markdown",
   "metadata": {},
   "source": [
    "### Cómo sería el comando para descargar la base de datos taxonómica (taxdb)"
   ]
  },
  {
   "cell_type": "code",
   "execution_count": null,
   "metadata": {},
   "outputs": [],
   "source": [
    "cd ~/Desktop/bigdata/"
   ]
  },
  {
   "cell_type": "code",
   "execution_count": null,
   "metadata": {},
   "outputs": [],
   "source": [
    "!perl ~/aplicaciones/update_blastdb.pl --passive taxdb"
   ]
  },
  {
   "cell_type": "code",
   "execution_count": null,
   "metadata": {},
   "outputs": [],
   "source": [
    "%%bash\n",
    "gunzip taxdb.tar.gz\n",
    "tar xvf  taxdb.tar"
   ]
  },
  {
   "cell_type": "code",
   "execution_count": null,
   "metadata": {},
   "outputs": [],
   "source": [
    "ls -lh"
   ]
  },
  {
   "cell_type": "code",
   "execution_count": null,
   "metadata": {},
   "outputs": [],
   "source": [
    "cd "
   ]
  },
  {
   "cell_type": "markdown",
   "metadata": {},
   "source": [
    "### Cómo serían los comandos para descargar y descomprimir las proteinas de referencia (swissprot)?\n"
   ]
  },
  {
   "cell_type": "code",
   "execution_count": null,
   "metadata": {},
   "outputs": [],
   "source": [
    "cd ~/Desktop/bigdata/"
   ]
  },
  {
   "cell_type": "code",
   "execution_count": null,
   "metadata": {},
   "outputs": [],
   "source": [
    "ls"
   ]
  },
  {
   "cell_type": "code",
   "execution_count": null,
   "metadata": {},
   "outputs": [],
   "source": [
    "os.makedirs('swissprot',exist_ok=True)"
   ]
  },
  {
   "cell_type": "code",
   "execution_count": null,
   "metadata": {},
   "outputs": [],
   "source": [
    "%%bash\n",
    "cd ~/Desktop/bigdata/swissprot\n",
    "perl ~/aplicaciones/update_blastdb.pl --passive swissprot"
   ]
  },
  {
   "cell_type": "markdown",
   "metadata": {},
   "source": [
    "#### Si se descarga una actualización ejecutar la siguiente celda, no hacerlo si la base de datos está actualizada"
   ]
  },
  {
   "cell_type": "code",
   "execution_count": null,
   "metadata": {},
   "outputs": [],
   "source": [
    "%%bash\n",
    "cd ~/Desktop/bigdata/swissprot\n",
    "gunzip swissprot.tar.gz\n",
    "tar xvf  swissprot.tar"
   ]
  },
  {
   "cell_type": "code",
   "execution_count": null,
   "metadata": {},
   "outputs": [],
   "source": [
    "ls -lh swissprot/"
   ]
  },
  {
   "cell_type": "code",
   "execution_count": null,
   "metadata": {},
   "outputs": [],
   "source": [
    "!rm swissprot/swissprot.tar.gz.md5\n",
    "!rm swissprot/swissprot.tar"
   ]
  },
  {
   "cell_type": "markdown",
   "metadata": {},
   "source": [
    "# Hay algunas diferencias entre la base de datos que hay en el NCBI con respecto a la de Uniprot, por lo que será necesario descargar la base de datos original (Uniprot)\n",
    "https://www.uniprot.org/\n",
    "En el recuadro azul del lado izquierdo donde dice *Manually annotated and reviewed*"
   ]
  },
  {
   "cell_type": "markdown",
   "metadata": {},
   "source": [
    "<img src=\"img/uniprot_1.png\">"
   ]
  },
  {
   "cell_type": "markdown",
   "metadata": {},
   "source": [
    "# Mover el cursor a *Download* y dar clic"
   ]
  },
  {
   "cell_type": "markdown",
   "metadata": {},
   "source": [
    "<img src=\"img/uniprot_2.png\">"
   ]
  },
  {
   "cell_type": "markdown",
   "metadata": {},
   "source": [
    "# Descargar el archivo Fasta sin comprimir, si se tiene una conexión con cable, si es por inalámbrico, descargarlo comprimido"
   ]
  },
  {
   "cell_type": "markdown",
   "metadata": {},
   "source": [
    "<img src=\"img/uniprot_3.png\">"
   ]
  },
  {
   "cell_type": "markdown",
   "metadata": {},
   "source": [
    "## Una vez que se ha descargado el archivo, se necesita dar un formato para que blastx lo pueda interpretar adecuadamente"
   ]
  },
  {
   "cell_type": "markdown",
   "metadata": {},
   "source": [
    "# Para la creación de una base de datos a partir de un archivo fasta para la búsqueda con blast, se utiliza el comando\n",
    "`makeblastdb –in mydb.fsa –dbtype nucl –parse_seqids`\n",
    "\n",
    "donde `makeblastdb` es el comando para la creación de la base de datos, `–in` el archivo de entrada, en este caso `mydb.fsa`, `–dbtype` indica el tipo de base de datos, en este caso nucleótidos `nucl` y `–parse_seqids` es el indicador para que utilice los identificadores.\n"
   ]
  },
  {
   "cell_type": "code",
   "execution_count": 30,
   "metadata": {},
   "outputs": [],
   "source": [
    "os.makedirs('uniprot',exist_ok=True)"
   ]
  },
  {
   "cell_type": "code",
   "execution_count": 31,
   "metadata": {},
   "outputs": [
    {
     "name": "stdout",
     "output_type": "stream",
     "text": [
      "\u001b[0m\u001b[01;34m16SMicrobial\u001b[0m/  \u001b[01;34muniprot\u001b[0m/\r\n"
     ]
    }
   ],
   "source": [
    "ls"
   ]
  },
  {
   "cell_type": "code",
   "execution_count": 32,
   "metadata": {},
   "outputs": [
    {
     "name": "stdout",
     "output_type": "stream",
     "text": [
      "/home/user1/Desktop/bigdata/uniprot\n"
     ]
    }
   ],
   "source": [
    "cd uniprot/"
   ]
  },
  {
   "cell_type": "code",
   "execution_count": 33,
   "metadata": {},
   "outputs": [],
   "source": [
    "ls"
   ]
  },
  {
   "cell_type": "code",
   "execution_count": null,
   "metadata": {},
   "outputs": [],
   "source": [
    "!head uniprot.fasta"
   ]
  },
  {
   "cell_type": "markdown",
   "metadata": {},
   "source": [
    "# Qué tipo de secuencias contiene el archivo uniprot.fasta?"
   ]
  },
  {
   "cell_type": "markdown",
   "metadata": {},
   "source": [
    "# Corrija el siguiente comando de acuerdo a su respuesta"
   ]
  },
  {
   "cell_type": "code",
   "execution_count": null,
   "metadata": {},
   "outputs": [],
   "source": [
    "%%bash\n",
    "makeblastdb –in uniprot.fasta –dbtype nucl –parse_seqids"
   ]
  },
  {
   "cell_type": "code",
   "execution_count": null,
   "metadata": {},
   "outputs": [],
   "source": []
  },
  {
   "cell_type": "code",
   "execution_count": null,
   "metadata": {},
   "outputs": [],
   "source": []
  },
  {
   "cell_type": "markdown",
   "metadata": {},
   "source": [
    "# Si hay unos errores, verifique su comandos y explique qué pasó"
   ]
  },
  {
   "cell_type": "raw",
   "metadata": {},
   "source": [
    "%%bash\n",
    "makeblastdb -in uniprot.fasta -dbtype prot -parse_seqids"
   ]
  },
  {
   "cell_type": "code",
   "execution_count": null,
   "metadata": {},
   "outputs": [],
   "source": [
    "ls"
   ]
  },
  {
   "cell_type": "code",
   "execution_count": null,
   "metadata": {},
   "outputs": [],
   "source": []
  }
 ],
 "metadata": {
  "kernelspec": {
   "display_name": "Python 3",
   "language": "python",
   "name": "python3"
  },
  "language_info": {
   "codemirror_mode": {
    "name": "ipython",
    "version": 3
   },
   "file_extension": ".py",
   "mimetype": "text/x-python",
   "name": "python",
   "nbconvert_exporter": "python",
   "pygments_lexer": "ipython3",
   "version": "3.6.4"
  }
 },
 "nbformat": 4,
 "nbformat_minor": 2
}
