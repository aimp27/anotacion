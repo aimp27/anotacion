{
 "cells": [
  {
   "cell_type": "markdown",
   "metadata": {},
   "source": [
    "# Procedimiento para cambiar de nombre a los contigs\n",
    "## se pondrá de `8_S356_contig000001` en adelante"
   ]
  },
  {
   "cell_type": "markdown",
   "metadata": {},
   "source": [
    "## Se utilizarán los contigs formados por el ensamblaje que se localizan en \n",
    "`~/Desktop/data/ejercicio_ensamblaje/trinity/Trinity.fasta`"
   ]
  },
  {
   "cell_type": "code",
   "execution_count": 1,
   "metadata": {},
   "outputs": [
    {
     "name": "stdout",
     "output_type": "stream",
     "text": [
      "/home/user1/Desktop/data/ejercicio_ensamblaje/trinity/Trinity.fasta\r\n",
      "/home/user1/Desktop/data/ejercicio_ensamblaje/trinity/Trinity.fasta.gene_trans_map\r\n",
      "/home/user1/Desktop/data/ejercicio_ensamblaje/trinity/Trinity.timing\r\n"
     ]
    }
   ],
   "source": [
    "ls ~/Desktop/data/ejercicio_ensamblaje/trinity/T*"
   ]
  },
  {
   "cell_type": "code",
   "execution_count": 2,
   "metadata": {},
   "outputs": [
    {
     "name": "stdout",
     "output_type": "stream",
     "text": [
      "/home/user1/Desktop/data/ejercicio_ensamblaje/trinity\n"
     ]
    }
   ],
   "source": [
    "cd ~/Desktop/data/ejercicio_ensamblaje/trinity/"
   ]
  },
  {
   "cell_type": "code",
   "execution_count": 3,
   "metadata": {},
   "outputs": [
    {
     "name": "stdout",
     "output_type": "stream",
     "text": [
      "317\r\n"
     ]
    }
   ],
   "source": [
    "!grep \">\" Trinity.fasta |wc -l"
   ]
  },
  {
   "cell_type": "code",
   "execution_count": 4,
   "metadata": {},
   "outputs": [],
   "source": [
    "from Bio import SeqIO\n",
    "from Bio.SeqRecord import SeqRecord\n",
    "from Bio.Seq import Seq"
   ]
  },
  {
   "cell_type": "code",
   "execution_count": 5,
   "metadata": {},
   "outputs": [
    {
     "name": "stdout",
     "output_type": "stream",
     "text": [
      "procesando 8_S356_contig000010 \t TRINITY_DN61_c2_g1_i AGCATTTTGG\n",
      "procesando 8_S356_contig000020 \t TRINITY_DN25_c0_g1_i AGGGTATATA\n",
      "procesando 8_S356_contig000030 \t TRINITY_DN60_c0_g1_i TGAATAACTT\n",
      "procesando 8_S356_contig000040 \t TRINITY_DN59_c0_g1_i GCTACACTGT\n",
      "procesando 8_S356_contig000050 \t TRINITY_DN31_c0_g1_i CAATCACAGA\n",
      "procesando 8_S356_contig000060 \t TRINITY_DN32_c0_g1_i GGTTTTAGGA\n",
      "procesando 8_S356_contig000070 \t TRINITY_DN6_c0_g1_i2 GGGCAGAGGT\n",
      "procesando 8_S356_contig000080 \t TRINITY_DN30_c1_g1_i GTTGTGTCTA\n",
      "procesando 8_S356_contig000090 \t TRINITY_DN42_c0_g1_i GTATTATTTA\n",
      "procesando 8_S356_contig000100 \t TRINITY_DN156_c0_g1_ GTTTAACAGC\n",
      "procesando 8_S356_contig000110 \t TRINITY_DN252_c0_g1_ ACTCTAACCT\n",
      "procesando 8_S356_contig000120 \t TRINITY_DN287_c0_g1_ CACTGAAGAG\n",
      "procesando 8_S356_contig000130 \t TRINITY_DN314_c0_g1_ ATGCATGACA\n",
      "procesando 8_S356_contig000140 \t TRINITY_DN327_c0_g1_ GCCTCTGCAG\n",
      "procesando 8_S356_contig000150 \t TRINITY_DN462_c0_g1_ ATTAAAAATT\n",
      "procesando 8_S356_contig000160 \t TRINITY_DN543_c0_g1_ ACTTAATGCA\n",
      "procesando 8_S356_contig000170 \t TRINITY_DN569_c0_g1_ GACGGGGGTC\n",
      "procesando 8_S356_contig000180 \t TRINITY_DN633_c0_g1_ AGTCACTCAT\n",
      "procesando 8_S356_contig000190 \t TRINITY_DN614_c0_g1_ ATATTAACCA\n",
      "procesando 8_S356_contig000200 \t TRINITY_DN725_c0_g1_ GCTTTAGCTT\n",
      "procesando 8_S356_contig000210 \t TRINITY_DN717_c0_g1_ TTTGCCCATT\n",
      "procesando 8_S356_contig000220 \t TRINITY_DN868_c0_g1_ GCACATAGTT\n",
      "procesando 8_S356_contig000230 \t TRINITY_DN820_c0_g1_ GTTCTTCTGC\n",
      "procesando 8_S356_contig000240 \t TRINITY_DN983_c0_g1_ ACCCTAATCA\n",
      "procesando 8_S356_contig000250 \t TRINITY_DN1094_c0_g1 ATATTATTCG\n",
      "procesando 8_S356_contig000260 \t TRINITY_DN1003_c0_g1 ACATAACAGA\n",
      "procesando 8_S356_contig000270 \t TRINITY_DN1134_c0_g1 CATCTTTATA\n",
      "procesando 8_S356_contig000280 \t TRINITY_DN1124_c0_g1 TTTCTTGGCA\n",
      "procesando 8_S356_contig000290 \t TRINITY_DN1275_c0_g1 ATCATGGGCA\n",
      "procesando 8_S356_contig000300 \t TRINITY_DN1370_c0_g1 ATGTCATCCA\n",
      "procesando 8_S356_contig000310 \t TRINITY_DN1375_c0_g1 GTTCAGGGTG\n",
      "procesando 8_S356_contig000317 \t TRINITY_DN1422_c0_g1 CAATTTCACG\n"
     ]
    }
   ],
   "source": [
    "# Celda Cambio de nombre\n",
    "n=0\n",
    "secuencias = []\n",
    "\n",
    "f = open(\"Trinity.fasta\", \"r\")\n",
    "for rec in SeqIO.parse(f, \"fasta\"):\n",
    "    n+=1\n",
    "    n1 =str(n).zfill(6)\n",
    "    sec = rec.seq\n",
    "    linea =SeqRecord(sec, id=\"8_S356_contig\"+ n1, description=rec.description)\n",
    "    #print (linea.id, \"\\t\", linea.description[:20], linea.seq[:10])\n",
    "    secuencias.append(linea)\n",
    "    if n%10==0:\n",
    "        print (\"procesando\", linea.id, \"\\t\", linea.description[:20], linea.seq[:10])\n",
    "print (\"\\n\", \"Lineas procesadas\", linea.id, \"\\t\", linea.description[:20], linea.seq[:10])"
   ]
  },
  {
   "cell_type": "code",
   "execution_count": 6,
   "metadata": {},
   "outputs": [
    {
     "data": {
      "text/plain": [
       "317"
      ]
     },
     "execution_count": 6,
     "metadata": {},
     "output_type": "execute_result"
    }
   ],
   "source": [
    "SeqIO.write(secuencias, '../8_S356_contigs.fa', 'fasta')"
   ]
  },
  {
   "cell_type": "code",
   "execution_count": 7,
   "metadata": {},
   "outputs": [
    {
     "name": "stdout",
     "output_type": "stream",
     "text": [
      "8_S356_contigs.fa  \u001b[0m\u001b[01;34mtrinity\u001b[0m/\r\n"
     ]
    }
   ],
   "source": [
    "ls ../"
   ]
  },
  {
   "cell_type": "code",
   "execution_count": 8,
   "metadata": {},
   "outputs": [
    {
     "name": "stdout",
     "output_type": "stream",
     "text": [
      "317\r\n"
     ]
    }
   ],
   "source": [
    "!grep \">\" ../8_S356_contigs.fa |wc -l"
   ]
  },
  {
   "cell_type": "markdown",
   "metadata": {},
   "source": [
    "## Abra el archivo `../8_S356_contigs.fa` desde el navegador de Jupyter y observe los cambios"
   ]
  },
  {
   "cell_type": "markdown",
   "metadata": {},
   "source": [
    "## De qué otra forma podría observar los cambios?"
   ]
  },
  {
   "cell_type": "code",
   "execution_count": null,
   "metadata": {},
   "outputs": [],
   "source": []
  },
  {
   "cell_type": "markdown",
   "metadata": {},
   "source": [
    "### Cómo se podría cambiar el comando de la \n",
    "*# Celda Cambio de nombre*\n",
    "### para usar `8_S356_contig001` en adelante (que tenga tres cifras en vez de seis)?"
   ]
  },
  {
   "cell_type": "code",
   "execution_count": null,
   "metadata": {},
   "outputs": [],
   "source": []
  },
  {
   "cell_type": "code",
   "execution_count": null,
   "metadata": {},
   "outputs": [],
   "source": []
  }
 ],
 "metadata": {
  "kernelspec": {
   "display_name": "Python 3",
   "language": "python",
   "name": "python3"
  },
  "language_info": {
   "codemirror_mode": {
    "name": "ipython",
    "version": 3
   },
   "file_extension": ".py",
   "mimetype": "text/x-python",
   "name": "python",
   "nbconvert_exporter": "python",
   "pygments_lexer": "ipython3",
   "version": "3.6.4"
  }
 },
 "nbformat": 4,
 "nbformat_minor": 2
}
