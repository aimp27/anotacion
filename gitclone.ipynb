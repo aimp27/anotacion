{
 "cells": [
  {
   "cell_type": "code",
   "execution_count": 3,
   "metadata": {},
   "outputs": [
    {
     "name": "stdout",
     "output_type": "stream",
     "text": [
      "Cloning into 'anotacion'...\n",
      "remote: Counting objects: 440, done.\u001b[K\n",
      "remote: Compressing objects: 100% (43/43), done.\u001b[K\n",
      "remote: Total 440 (delta 19), reused 40 (delta 10), pack-reused 386\u001b[K\n",
      "Receiving objects: 100% (440/440), 48.69 MiB | 5.69 MiB/s, done.\n",
      "Resolving deltas: 100% (206/206), done.\n"
     ]
    }
   ],
   "source": [
    "!git clone https://github.com/mdelrio1/anotacion.git"
   ]
  },
  {
   "cell_type": "code",
   "execution_count": 4,
   "metadata": {},
   "outputs": [
    {
     "name": "stdout",
     "output_type": "stream",
     "text": [
      "\u001b[0m\u001b[01;34mApplications\u001b[0m/  Untitled.ipynb   \u001b[01;34manotacion\u001b[0m/     fisiologia_amarillo.ipynb\r\n",
      "\u001b[01;36mDATA\u001b[0m@          Untitled1.ipynb  \u001b[01;34maplicaciones\u001b[0m/  \u001b[01;34mimg\u001b[0m/\r\n",
      "\u001b[01;34mDesktop\u001b[0m/       amarillo2.csv    \u001b[01;34meduardo\u001b[0m/\r\n"
     ]
    }
   ],
   "source": [
    "ls"
   ]
  },
  {
   "cell_type": "code",
   "execution_count": 5,
   "metadata": {},
   "outputs": [
    {
     "name": "stdout",
     "output_type": "stream",
     "text": [
      "/home/user1/anotacion\n"
     ]
    }
   ],
   "source": [
    "cd anotacion/"
   ]
  },
  {
   "cell_type": "code",
   "execution_count": 6,
   "metadata": {},
   "outputs": [
    {
     "name": "stdout",
     "output_type": "stream",
     "text": [
      "00temario.md  \u001b[0m\u001b[01;34mdata\u001b[0m/  \u001b[01;34mjupyter\u001b[0m/  \u001b[01;34mjupyter_win\u001b[0m/  readme.md\r\n"
     ]
    }
   ],
   "source": [
    "ls"
   ]
  },
  {
   "cell_type": "code",
   "execution_count": null,
   "metadata": {},
   "outputs": [],
   "source": []
  }
 ],
 "metadata": {
  "kernelspec": {
   "display_name": "Python 3",
   "language": "python",
   "name": "python3"
  },
  "language_info": {
   "codemirror_mode": {
    "name": "ipython",
    "version": 3
   },
   "file_extension": ".py",
   "mimetype": "text/x-python",
   "name": "python",
   "nbconvert_exporter": "python",
   "pygments_lexer": "ipython3",
   "version": "3.6.4"
  }
 },
 "nbformat": 4,
 "nbformat_minor": 2
}
